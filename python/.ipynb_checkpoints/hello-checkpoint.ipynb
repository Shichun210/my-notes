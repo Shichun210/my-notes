{
 "cells": [
  {
   "cell_type": "code",
   "execution_count": 1,
   "id": "5e298d15-919c-4055-af18-7e7942016660",
   "metadata": {},
   "outputs": [
    {
     "name": "stdout",
     "output_type": "stream",
     "text": [
      "hello world!\n"
     ]
    }
   ],
   "source": [
    "print(\"hello world!\")"
   ]
  },
  {
   "cell_type": "markdown",
   "id": "fa0a5c8d-7922-4c9a-b8fe-4872c9af65f7",
   "metadata": {},
   "source": [
    "## HELLO ##"
   ]
  },
  {
   "cell_type": "code",
   "execution_count": null,
   "id": "e95ec596-d21a-4756-95a2-fea3950398bc",
   "metadata": {},
   "outputs": [],
   "source": []
  }
 ],
 "metadata": {
  "kernelspec": {
   "display_name": "Python 3 (ipykernel)",
   "language": "python",
   "name": "python3"
  },
  "language_info": {
   "codemirror_mode": {
    "name": "ipython",
    "version": 3
   },
   "file_extension": ".py",
   "mimetype": "text/x-python",
   "name": "python",
   "nbconvert_exporter": "python",
   "pygments_lexer": "ipython3",
   "version": "3.13.5"
  }
 },
 "nbformat": 4,
 "nbformat_minor": 5
}
