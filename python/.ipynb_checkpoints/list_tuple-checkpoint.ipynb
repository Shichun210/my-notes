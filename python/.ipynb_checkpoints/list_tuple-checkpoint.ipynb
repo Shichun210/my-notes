{
 "cells": [
  {
   "cell_type": "markdown",
   "id": "757c221a",
   "metadata": {},
   "source": [
    "## list"
   ]
  },
  {
   "cell_type": "markdown",
   "id": "811562d6",
   "metadata": {},
   "source": [
    "### list index"
   ]
  },
  {
   "cell_type": "code",
   "execution_count": null,
   "id": "d4326753",
   "metadata": {},
   "outputs": [],
   "source": [
    "greeting = 'Hello, World!'\n",
    "print(greeting[0])\n",
    "print(greeting[-1])\n"
   ]
  },
  {
   "cell_type": "code",
   "execution_count": null,
   "id": "3a3dbf49",
   "metadata": {},
   "outputs": [
    {
     "name": "stdout",
     "output_type": "stream",
     "text": [
      "4\n"
     ]
    }
   ],
   "source": [
    "fourth = input('Enter the fourth element: ')[3]\n",
    "print(fourth)"
   ]
  },
  {
   "cell_type": "markdown",
   "id": "8915bbc6",
   "metadata": {},
   "source": [
    "### slices"
   ]
  },
  {
   "cell_type": "code",
   "execution_count": 15,
   "id": "b3e6ddf7",
   "metadata": {},
   "outputs": [
    {
     "name": "stdout",
     "output_type": "stream",
     "text": [
      "on is\n",
      "on is fun!\n",
      "fun!\n",
      " is fu\n",
      "Python is fun!\n"
     ]
    }
   ],
   "source": [
    "tag = \"Python is fun!\"\n",
    "print(tag[4:9])\n",
    "print(tag[4:]) \n",
    "print(tag[-4:])\n",
    "print(tag[6:-2])  \n",
    "print(tag[:])"
   ]
  },
  {
   "cell_type": "code",
   "execution_count": 20,
   "id": "2ac0173f",
   "metadata": {},
   "outputs": [
    {
     "name": "stdout",
     "output_type": "stream",
     "text": [
      "[1, 3, 5, 7, 9]\n",
      "[1, 5, 9]\n",
      "[]\n",
      "[10, 8, 6, 4, 2]\n"
     ]
    }
   ],
   "source": [
    "numbers = [1, 2, 3, 4, 5, 6, 7, 8, 9, 10]\n",
    "print(numbers[0:10:2]) \n",
    "print(numbers[::4]) \n",
    "print(numbers[0:10:-2])\n",
    "print(numbers[10:0:-2])"
   ]
  },
  {
   "cell_type": "markdown",
   "id": "1f440141",
   "metadata": {},
   "source": [
    "### list plus and multiply"
   ]
  },
  {
   "cell_type": "code",
   "execution_count": 23,
   "id": "a60361e5",
   "metadata": {},
   "outputs": [
    {
     "name": "stdout",
     "output_type": "stream",
     "text": [
      "[1, 2, 3, 4, 5, 6]\n",
      "[1, 2, 3, 1, 2, 3, 1, 2, 3]\n",
      "Hello Hello Hello Hello Hello \n"
     ]
    }
   ],
   "source": [
    "print([1, 2, 3] + [4, 5, 6])\n",
    "print([1, 2, 3] * 3)\n",
    "print('Hello ' * 5)"
   ]
  },
  {
   "cell_type": "markdown",
   "id": "ef124d67",
   "metadata": {},
   "source": [
    "### in list?"
   ]
  },
  {
   "cell_type": "code",
   "execution_count": 28,
   "id": "88a8fa80",
   "metadata": {},
   "outputs": [
    {
     "name": "stdout",
     "output_type": "stream",
     "text": [
      "True\n",
      "True\n",
      "False\n",
      "True\n"
     ]
    }
   ],
   "source": [
    "permissions = ['read', 'write', 'execute']\n",
    "print('read' in permissions)\n",
    "print('delete' not in permissions)\n",
    "print('green' in permissions)\n",
    "stringHello = \"$$$ Hello, World!\"\n",
    "print('$$$' in stringHello)"
   ]
  },
  {
   "cell_type": "code",
   "execution_count": 33,
   "id": "b4415396",
   "metadata": {},
   "outputs": [
    {
     "name": "stdout",
     "output_type": "stream",
     "text": [
      "Access granted\n"
     ]
    }
   ],
   "source": [
    "database = [['albert', '1234'], ['bob', '5678'], ['charlie', '91011'], ['dave', '1213'], ['eve', '1415']]\n",
    "username = 'dave'\n",
    "password = '1213'\n",
    "if [username, password] in database:\n",
    "    print('Access granted')\n",
    "else:\n",
    "    print('Access denied')"
   ]
  },
  {
   "cell_type": "markdown",
   "id": "527c2e75",
   "metadata": {},
   "source": [
    "### len, max, min"
   ]
  },
  {
   "cell_type": "code",
   "execution_count": 41,
   "id": "e22e299a",
   "metadata": {},
   "outputs": [
    {
     "name": "stdout",
     "output_type": "stream",
     "text": [
      "5\n",
      "5\n",
      "1\n",
      "13\n"
     ]
    }
   ],
   "source": [
    "numbers = [1, 2, 3, 4, 5]\n",
    "print(len(numbers))\n",
    "print(max(numbers))\n",
    "print(min(numbers))\n",
    "print(len('Hello, World!'))"
   ]
  },
  {
   "cell_type": "markdown",
   "id": "e990a795",
   "metadata": {},
   "source": [
    "### list functions"
   ]
  },
  {
   "cell_type": "markdown",
   "id": "4fcce154",
   "metadata": {},
   "source": [
    "#### list() to transform a string to list"
   ]
  },
  {
   "cell_type": "code",
   "execution_count": 42,
   "id": "4e0e9a25",
   "metadata": {},
   "outputs": [
    {
     "name": "stdout",
     "output_type": "stream",
     "text": [
      "['H', 'e', 'l', 'l', 'o', ',', ' ', 'W', 'o', 'r', 'l', 'd', '!']\n"
     ]
    }
   ],
   "source": [
    "print(list('Hello, World!'))"
   ]
  },
  {
   "cell_type": "markdown",
   "id": "a01ac2f1",
   "metadata": {},
   "source": [
    "#### set value for an element of a list"
   ]
  },
  {
   "cell_type": "code",
   "execution_count": 43,
   "id": "85fea938",
   "metadata": {},
   "outputs": [
    {
     "name": "stdout",
     "output_type": "stream",
     "text": [
      "[10, 2, 3]\n"
     ]
    }
   ],
   "source": [
    "x = [1, 2, 3]\n",
    "x[0] = 10\n",
    "print(x)"
   ]
  },
  {
   "cell_type": "markdown",
   "id": "9272d354",
   "metadata": {},
   "source": [
    "#### delete element in a list"
   ]
  },
  {
   "cell_type": "code",
   "execution_count": 44,
   "id": "700eaf23",
   "metadata": {},
   "outputs": [
    {
     "name": "stdout",
     "output_type": "stream",
     "text": [
      "[1, 3]\n"
     ]
    }
   ],
   "source": [
    "x = [1, 2, 3]\n",
    "del x[1]\n",
    "print(x)"
   ]
  },
  {
   "cell_type": "markdown",
   "id": "058ffba0",
   "metadata": {},
   "source": [
    "#### set slice value"
   ]
  },
  {
   "cell_type": "code",
   "execution_count": 48,
   "id": "1e47b8a7",
   "metadata": {},
   "outputs": [
    {
     "name": "stdout",
     "output_type": "stream",
     "text": [
      "['J', 'o', 'h', 'n']\n",
      "['J', 'o', 'k', 'e', 'r']\n"
     ]
    }
   ],
   "source": [
    "name = list('John')\n",
    "print(name)\n",
    "name[2:] = list('ker')\n",
    "print(name)"
   ]
  },
  {
   "cell_type": "markdown",
   "id": "6184fe6f",
   "metadata": {},
   "source": [
    "#### append"
   ]
  },
  {
   "cell_type": "code",
   "execution_count": 49,
   "id": "ce2a8650",
   "metadata": {},
   "outputs": [
    {
     "name": "stdout",
     "output_type": "stream",
     "text": [
      "['Alice', 'Bob', 'Charlie', 'David']\n"
     ]
    }
   ],
   "source": [
    "names = ['Alice', 'Bob', 'Charlie']\n",
    "names.append('David')\n",
    "print(names)"
   ]
  },
  {
   "cell_type": "markdown",
   "id": "6e6eddf4",
   "metadata": {},
   "source": [
    "#### count"
   ]
  },
  {
   "cell_type": "code",
   "execution_count": 50,
   "id": "ad37a992",
   "metadata": {},
   "outputs": [
    {
     "name": "stdout",
     "output_type": "stream",
     "text": [
      "2\n"
     ]
    }
   ],
   "source": [
    "names = ['Alice', 'Bob', 'Charlie', 'Alice']\n",
    "print(names.count('Alice'))"
   ]
  },
  {
   "cell_type": "markdown",
   "id": "878d753d",
   "metadata": {},
   "source": [
    "#### extend"
   ]
  },
  {
   "cell_type": "code",
   "execution_count": 51,
   "id": "d979126f",
   "metadata": {},
   "outputs": [
    {
     "name": "stdout",
     "output_type": "stream",
     "text": [
      "[1, 2, 3, 4, 5, 6]\n"
     ]
    }
   ],
   "source": [
    "a = [1, 2, 3]\n",
    "b = [4, 5, 6]\n",
    "a.extend(b)\n",
    "print(a)"
   ]
  },
  {
   "cell_type": "markdown",
   "id": "36d85193",
   "metadata": {},
   "source": [
    "#### index"
   ]
  },
  {
   "cell_type": "code",
   "execution_count": 54,
   "id": "3a4dc518",
   "metadata": {},
   "outputs": [
    {
     "name": "stdout",
     "output_type": "stream",
     "text": [
      "1\n"
     ]
    }
   ],
   "source": [
    "knights = ['Arthur', 'Lancelot', 'Galahad']\n",
    "print(knights.index('Lancelot'))"
   ]
  },
  {
   "cell_type": "markdown",
   "id": "5bbcf5e7",
   "metadata": {},
   "source": [
    "#### insert"
   ]
  },
  {
   "cell_type": "code",
   "execution_count": 55,
   "id": "f354d2fd",
   "metadata": {},
   "outputs": [
    {
     "name": "stdout",
     "output_type": "stream",
     "text": [
      "[1, 2, 3, 'four', 4, 5]\n"
     ]
    }
   ],
   "source": [
    "numbers = [1, 2, 3, 4, 5]\n",
    "numbers.insert(3, 'four')\n",
    "print(numbers)"
   ]
  },
  {
   "cell_type": "markdown",
   "id": "ebd8da28",
   "metadata": {},
   "source": [
    "#### pop"
   ]
  },
  {
   "cell_type": "code",
   "execution_count": 56,
   "id": "b1e202f2",
   "metadata": {},
   "outputs": [
    {
     "name": "stdout",
     "output_type": "stream",
     "text": [
      "x: [1, 2] y: 3\n"
     ]
    }
   ],
   "source": [
    "x = [1, 2, 3]\n",
    "y = x.pop()\n",
    "print('x:', x, 'y:', y)"
   ]
  },
  {
   "cell_type": "markdown",
   "id": "c9f1ca89",
   "metadata": {},
   "source": [
    "#### remove"
   ]
  },
  {
   "cell_type": "code",
   "execution_count": 58,
   "id": "401d7f1a",
   "metadata": {},
   "outputs": [
    {
     "name": "stdout",
     "output_type": "stream",
     "text": [
      "['to', 'be', 'or', 'to', 'be']\n",
      "['to', 'or', 'to', 'be']\n"
     ]
    }
   ],
   "source": [
    "x = ['to', 'be', 'or', 'not', 'to', 'be']\n",
    "x.remove('not')\n",
    "print(x)\n",
    "x.remove('be')\n",
    "print(x)"
   ]
  },
  {
   "cell_type": "markdown",
   "id": "16f6e50e",
   "metadata": {},
   "source": [
    "#### reverse"
   ]
  },
  {
   "cell_type": "code",
   "execution_count": 59,
   "id": "a0a461d7",
   "metadata": {},
   "outputs": [
    {
     "name": "stdout",
     "output_type": "stream",
     "text": [
      "[3, 2, 1]\n"
     ]
    }
   ],
   "source": [
    "x = [1, 2, 3]\n",
    "x.reverse()\n",
    "print(x)"
   ]
  },
  {
   "cell_type": "markdown",
   "id": "31550f74",
   "metadata": {},
   "source": [
    "#### sort"
   ]
  },
  {
   "cell_type": "code",
   "execution_count": null,
   "id": "19d2df54",
   "metadata": {},
   "outputs": [
    {
     "name": "stdout",
     "output_type": "stream",
     "text": [
      "[1, 2, 4, 5, 6, 9]\n",
      "None\n"
     ]
    }
   ],
   "source": [
    "x = [5, 2, 9, 1, 4, 6]\n",
    "y = x.sort()\n",
    "print(x)\n",
    "print(y)  # y will be None since sort() modifies the list in place"
   ]
  },
  {
   "cell_type": "code",
   "execution_count": 62,
   "id": "ebeb795a",
   "metadata": {},
   "outputs": [
    {
     "name": "stdout",
     "output_type": "stream",
     "text": [
      "[5, 2, 9, 1, 4, 6]\n",
      "[1, 2, 4, 5, 6, 9]\n",
      "[' ', '!', ',', 'H', 'W', 'd', 'e', 'l', 'l', 'l', 'o', 'o', 'r']\n"
     ]
    }
   ],
   "source": [
    "x = [5, 2, 9, 1, 4, 6]\n",
    "y = sorted(x)\n",
    "print(x)\n",
    "print(y)  # y is a new sorted list, x remains unchanged\n",
    "print(sorted('Hello, World!'))  # Sorting a string returns a list of characters in"
   ]
  },
  {
   "cell_type": "markdown",
   "id": "36cabd87",
   "metadata": {},
   "source": [
    "## tuple"
   ]
  },
  {
   "cell_type": "markdown",
   "id": "99b842c3",
   "metadata": {},
   "source": [
    "### tuple is an unchangable list"
   ]
  },
  {
   "cell_type": "code",
   "execution_count": 65,
   "id": "9ffd9dc2",
   "metadata": {},
   "outputs": [
    {
     "data": {
      "text/plain": [
       "(42,)"
      ]
     },
     "execution_count": 65,
     "metadata": {},
     "output_type": "execute_result"
    }
   ],
   "source": [
    "(1, 2, 3)  # Tuple with three elements\n",
    "(1, 2, 3, 4, 5)  # Tuple with five elements\n",
    "()  # Empty tuple\n",
    "42,"
   ]
  },
  {
   "cell_type": "markdown",
   "id": "328f1fac",
   "metadata": {},
   "source": [
    "### tuple functions"
   ]
  },
  {
   "cell_type": "markdown",
   "id": "c84e842a",
   "metadata": {},
   "source": [
    "#### tuple()"
   ]
  },
  {
   "cell_type": "code",
   "execution_count": 72,
   "id": "99837fd2",
   "metadata": {},
   "outputs": [
    {
     "name": "stdout",
     "output_type": "stream",
     "text": [
      "(1, 2, 3)\n"
     ]
    },
    {
     "data": {
      "text/plain": [
       "(1, 2, 3, 4, 5)"
      ]
     },
     "execution_count": 72,
     "metadata": {},
     "output_type": "execute_result"
    }
   ],
   "source": [
    "x = tuple([1, 2, 3])\n",
    "print(x)\n",
    "tuple('abc')\n",
    "tuple(('d', 'e', 'f'))\n",
    "tuple((1, 2, 3, 4, 5))  # Tuple with five elements"
   ]
  }
 ],
 "metadata": {
  "kernelspec": {
   "display_name": "Python 3",
   "language": "python",
   "name": "python3"
  },
  "language_info": {
   "codemirror_mode": {
    "name": "ipython",
    "version": 3
   },
   "file_extension": ".py",
   "mimetype": "text/x-python",
   "name": "python",
   "nbconvert_exporter": "python",
   "pygments_lexer": "ipython3",
   "version": "3.13.5"
  }
 },
 "nbformat": 4,
 "nbformat_minor": 5
}
