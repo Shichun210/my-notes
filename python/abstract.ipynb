{
 "cells": [
  {
   "cell_type": "markdown",
   "id": "55f67a71",
   "metadata": {},
   "source": [
    "## 7 更加抽象\n",
    "### 7.1 对象的魔力\n",
    "概念:\n",
    "> 对象(object)可以看作是数据以及由一系列可以存取,操作这些数据的方法所组成的集合.\n",
    "\n",
    "使用对象的优点:\n",
    "- 多态: 意味着可以对不同类的对象使用同样的操作,它们会像被施了魔法一样.\n",
    "- 封装: 对外部世界隐藏对象的工作细节.\n",
    "- 继承: 以普通的类为基础建立专门的类对象.\n",
    "\n",
    "### 7.1.1 多态\n",
    "\n",
    "多态顾名思义,就是有多种形式.意味着就算不知道变量所引用的对象类型是什么,还是能对它进行操作,而且还会根据对象(或类)类型的不同而表现出不同的行为.\n",
    "下面的例子就是一个多态的应用, 不管这个对象是一个字符串还是一个列表,调用count方法"
   ]
  },
  {
   "cell_type": "code",
   "execution_count": 2,
   "id": "8d3b1c63",
   "metadata": {},
   "outputs": [
    {
     "name": "stdout",
     "output_type": "stream",
     "text": [
      "1\n",
      "2\n"
     ]
    }
   ],
   "source": [
    "print('abc'.count('a'))\n",
    "print([1, 'a', 2, 'a'].count('a'))"
   ]
  },
  {
   "cell_type": "code",
   "execution_count": 21,
   "id": "399dfc93",
   "metadata": {},
   "outputs": [
    {
     "data": {
      "text/plain": [
       "1"
      ]
     },
     "execution_count": 21,
     "metadata": {},
     "output_type": "execute_result"
    }
   ],
   "source": [
    "from random import choice\n",
    "x = choice(['hello, world', [1, 2, 'e', 'e', 4], 45543, (3, 4, 5), 'a', 'b', 'c'])\n",
    "x.count('e')"
   ]
  },
  {
   "cell_type": "markdown",
   "id": "98bbb59a",
   "metadata": {},
   "source": [
    "### 7.1.2 封装\n",
    "封装不同于多态. 多态可以让用户对于不知道是什么类(或对象类型)的对象进行方法调用,而封装是可以不用关心对象是如何构建的而直接进行使用"
   ]
  },
  {
   "cell_type": "markdown",
   "id": "5fcf50c8",
   "metadata": {},
   "source": [
    "### 7.1.3 继承\n",
    "\n",
    "继承是一种懒惰行为,程序员创建了一个类A,然后需要创建另外一个类B,这个类B和类A非常类似，只是可能添加了几个方法，编写新类B的时候又不想去复制粘贴类A"
   ]
  },
  {
   "cell_type": "code",
   "execution_count": 23,
   "id": "3ba18f00",
   "metadata": {},
   "outputs": [
    {
     "name": "stdout",
     "output_type": "stream",
     "text": [
      "Hi, my value is  7\n"
     ]
    }
   ],
   "source": [
    "class Calculator:\n",
    "    def calculate(self, expression):\n",
    "        self.value = eval(expression)\n",
    "\n",
    "class Talker:\n",
    "    def talk(self):\n",
    "        print('Hi, my value is ', self.value)\n",
    "\n",
    "class TalkativeCalculator(Calculator, Talker):\n",
    "    pass\n",
    "\n",
    "tc = TalkativeCalculator()\n",
    "tc.calculate('1+2*3')\n",
    "tc.talk()"
   ]
  },
  {
   "cell_type": "markdown",
   "id": "6c337773",
   "metadata": {},
   "source": [
    "## 9 魔法方法，属性和迭代器\n",
    "### 9.2 构造方法 __init__\n",
    "当一个对象被创建后，会立即调用构造方法\n",
    "> f = FooBar()\n",
    ">\n",
    "> f.init()\n",
    "\n",
    "构造方法能让它简化为如下：\n",
    "> f = FooBar()\n",
    "\n",
    "创建一个构造方法很容易，只要把init方法的名字从简单的init修改成为魔法版本__init__即可"
   ]
  },
  {
   "cell_type": "code",
   "execution_count": 27,
   "id": "2e6668c1",
   "metadata": {},
   "outputs": [
    {
     "name": "stdout",
     "output_type": "stream",
     "text": [
      "42\n",
      "100\n",
      "This is a string\n"
     ]
    }
   ],
   "source": [
    "class Foobar:\n",
    "    def __init__(self, value = 42):\n",
    "        self.somevar = value\n",
    "\n",
    "f = Foobar()\n",
    "d = Foobar(100)\n",
    "s = Foobar('This is a string')\n",
    "print(f.somevar)\n",
    "print(d.somevar)\n",
    "print(s.somevar)"
   ]
  },
  {
   "cell_type": "markdown",
   "id": "384df02e",
   "metadata": {},
   "source": [
    "### 9.6 迭代器 __iter__\n",
    "一个实现了__iter__方法的对象是可迭代的,一个实现了next方法的对象是迭代器\n",
    "内建函数iter可以从一个可迭代对象中获得迭代器, 然后可以调用next方法."
   ]
  },
  {
   "cell_type": "code",
   "execution_count": 35,
   "id": "c87d9329",
   "metadata": {},
   "outputs": [
    {
     "name": "stdout",
     "output_type": "stream",
     "text": [
      "h\n",
      "e\n",
      "['l', 'l', 'o', ',', ' ', 'w', 'o', 'r', 'l', 'd', '!']\n"
     ]
    }
   ],
   "source": [
    "it = iter(\"hello, world!\")\n",
    "print(it.__next__())\n",
    "print(it.__next__())\n",
    "# we can also transform an iterable into an list\n",
    "print(list(it))"
   ]
  },
  {
   "cell_type": "markdown",
   "id": "19419220",
   "metadata": {},
   "source": [
    "### 9.7 生成器\n",
    "生成器是一种可以“懒加载”的迭代器，它不像列表一次性把所有数据都放在内存中，而是每次取一个值，生成一个值，节省内存，效率更高\n",
    "\n",
    "为什么使用生成器?\n",
    "\n",
    "举个例子\n",
    "> nums = [i for i in range(1000000)] # 一次性生成100万个数字，占用很多内存\n",
    "> \n",
    "> nums = (i for i in range(1000000)) # 每次只生成一个数字，节省内存\n",
    "\n",
    "生成器是一个包含yield关键字的函数。当它被调用时，在函数体中的代码不会被执行，而是会返回一个迭代器。每次请求一个值，就会执行生成器中的代码，直到遇到一个yield或者return语句。 yield语句意味着应该生成一个值，return语句意味着生成器要停止执行。\n"
   ]
  },
  {
   "cell_type": "code",
   "execution_count": 37,
   "id": "200efd3b",
   "metadata": {},
   "outputs": [
    {
     "name": "stdout",
     "output_type": "stream",
     "text": [
      "first yield\n",
      "1\n",
      "second yield\n",
      "2\n",
      "third yield\n",
      "3\n"
     ]
    }
   ],
   "source": [
    "def my_gen():\n",
    "    print('first yield')\n",
    "    yield 1\n",
    "    print('second yield')\n",
    "    yield 2\n",
    "    print('third yield')\n",
    "    yield 3\n",
    "\n",
    "gen = my_gen()\n",
    "print(next(gen))\n",
    "print(next(gen))\n",
    "print(next(gen))"
   ]
  }
 ],
 "metadata": {
  "kernelspec": {
   "display_name": "Python 3",
   "language": "python",
   "name": "python3"
  },
  "language_info": {
   "codemirror_mode": {
    "name": "ipython",
    "version": 3
   },
   "file_extension": ".py",
   "mimetype": "text/x-python",
   "name": "python",
   "nbconvert_exporter": "python",
   "pygments_lexer": "ipython3",
   "version": "3.13.5"
  }
 },
 "nbformat": 4,
 "nbformat_minor": 5
}
