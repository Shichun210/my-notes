{
 "cells": [
  {
   "cell_type": "markdown",
   "id": "854e1258",
   "metadata": {},
   "source": [
    "## 5.5 循环\n",
    "### 5.5.1 while循环"
   ]
  },
  {
   "cell_type": "code",
   "execution_count": 4,
   "id": "b568fe8a",
   "metadata": {},
   "outputs": [
    {
     "name": "stdout",
     "output_type": "stream",
     "text": [
      "1 2 3 4 5 6 7 8 9 "
     ]
    }
   ],
   "source": [
    "x = 1\n",
    "while x < 10:\n",
    "    print(x, end=' ')\n",
    "    x += 1"
   ]
  },
  {
   "cell_type": "markdown",
   "id": "5f4dfde5",
   "metadata": {},
   "source": [
    "### 5.5.2 for循环"
   ]
  },
  {
   "cell_type": "code",
   "execution_count": 5,
   "id": "0de89d8b",
   "metadata": {},
   "outputs": [
    {
     "name": "stdout",
     "output_type": "stream",
     "text": [
      "This is an ex parrot "
     ]
    }
   ],
   "source": [
    "words = ['This', 'is', 'an', 'ex', 'parrot']\n",
    "for word in words:\n",
    "    print(word, end=' ')"
   ]
  },
  {
   "cell_type": "code",
   "execution_count": 15,
   "id": "3f0b283c",
   "metadata": {},
   "outputs": [
    {
     "name": "stdout",
     "output_type": "stream",
     "text": [
      "0 1 2 3 4 5 6 7 8 9 "
     ]
    }
   ],
   "source": [
    "r = range(0,10)\n",
    "for num in r:\n",
    "    print(num, end=' ')"
   ]
  },
  {
   "cell_type": "code",
   "execution_count": 18,
   "id": "8c41c649",
   "metadata": {},
   "outputs": [
    {
     "name": "stdout",
     "output_type": "stream",
     "text": [
      "name: Alice, age: 30, city: New York, "
     ]
    }
   ],
   "source": [
    "d = {'name': 'Alice', 'age': 30, 'city': 'New York'}\n",
    "for key, value in d.items():\n",
    "    print(f\"{key}: {value},\", end=' ')"
   ]
  }
 ],
 "metadata": {
  "kernelspec": {
   "display_name": "Python 3",
   "language": "python",
   "name": "python3"
  },
  "language_info": {
   "codemirror_mode": {
    "name": "ipython",
    "version": 3
   },
   "file_extension": ".py",
   "mimetype": "text/x-python",
   "name": "python",
   "nbconvert_exporter": "python",
   "pygments_lexer": "ipython3",
   "version": "3.13.5"
  }
 },
 "nbformat": 4,
 "nbformat_minor": 5
}
