{
 "cells": [
  {
   "cell_type": "markdown",
   "id": "ebac0bbd",
   "metadata": {},
   "source": [
    "## 字典\n",
    "\n",
    "### 4.1 字典的定义\n",
    "字典是一种通过名字来引用值的数据结构,字典中的值并没有特殊的顺序,但是都存储在一个特定的Key里面, Key可以是数字,字符串甚至是元组\n",
    ">字典是一种键值对的数据结构\n"
   ]
  },
  {
   "cell_type": "code",
   "execution_count": 10,
   "id": "c8584d43",
   "metadata": {},
   "outputs": [
    {
     "name": "stdout",
     "output_type": "stream",
     "text": [
      "{'Alice': '123-456-7890', 'Bob': '987-654-3210', 'Charlie': '555-555-5555', 'Diana': '444-444-4444'}\n"
     ]
    }
   ],
   "source": [
    "phonebook = {'Alice': '123-456-7890',\n",
    "              'Bob': '987-654-3210',\n",
    "              'Charlie': '555-555-5555',\n",
    "              'Diana': '444-444-4444'}\n",
    "print(phonebook)"
   ]
  },
  {
   "cell_type": "markdown",
   "id": "15271c6e",
   "metadata": {},
   "source": [
    "### 4.2 创建和使用字典\n",
    "#### 4.2.1 dict函数\n",
    "可以用dict函数,通过其他映射(比如其他字典)或者(键,值)这样的序列对建立字典."
   ]
  },
  {
   "cell_type": "code",
   "execution_count": 11,
   "id": "f269fc87",
   "metadata": {},
   "outputs": [
    {
     "name": "stdout",
     "output_type": "stream",
     "text": [
      "{'name': 'Alice', 'age': 30, 'city': 'New York'}\n"
     ]
    }
   ],
   "source": [
    "item = [('name', 'Alice'), ('age', 30), ('city', 'New York')]\n",
    "d = dict(item)\n",
    "print(d)"
   ]
  },
  {
   "cell_type": "markdown",
   "id": "76b03c05",
   "metadata": {},
   "source": [
    "dict函数也可以通过关键字参数来创建字典:"
   ]
  },
  {
   "cell_type": "code",
   "execution_count": 12,
   "id": "75bcf83f",
   "metadata": {},
   "outputs": [
    {
     "name": "stdout",
     "output_type": "stream",
     "text": [
      "{'name': 'Alice', 'age': 30, 'city': 'New York'}\n"
     ]
    }
   ],
   "source": [
    "d = dict(name='Alice', age=30, city='New York')\n",
    "print(d)"
   ]
  },
  {
   "cell_type": "markdown",
   "id": "1fbe9bdf",
   "metadata": {},
   "source": [
    "#### 4.2.2 字典的基本操作\n",
    ">len(d)返回d中项(键值对)的数量\n",
    "\n",
    ">d[k]返回关联到键上的值\n",
    "\n",
    ">d[k]=v讲值v关联到键k上\n",
    "\n",
    ">del d[k]删除键为k的项"
   ]
  },
  {
   "cell_type": "markdown",
   "id": "9d569ae8",
   "metadata": {},
   "source": [
    "字典示例"
   ]
  },
  {
   "cell_type": "code",
   "execution_count": 13,
   "id": "665b6930",
   "metadata": {},
   "outputs": [
    {
     "name": "stdout",
     "output_type": "stream",
     "text": [
      "Phone Number for Alice is 123-456-7890\n"
     ]
    }
   ],
   "source": [
    "# 简单数据库\n",
    "# 使用任命作为键的字典. 每个人用另一个字典来表示,其键'phone'和'addr'分别表示他们的电话号码和地址.\n",
    "people = {\n",
    "    'Alice': {'phone': '123-456-7890', 'addr': '123 Main St'},\n",
    "    'Bob': {'phone': '987-654-3210', 'addr': '456 Elm St'},\n",
    "    'Charlie': {'phone': '555-555-5555', 'addr': '789 Oak St'}}\n",
    "\n",
    "labels = {'phone': 'Phone Number', 'addr': 'address'}\n",
    "\n",
    "name = 'Alice'\n",
    "request = 'p'\n",
    "\n",
    "if request == 'p':\n",
    "    key = 'phone'\n",
    "elif request == 'a':\n",
    "    key = 'addr'\n",
    "\n",
    "if name in people:\n",
    "    print(f\"{labels[key]} for {name} is {people[name][key]}\")\n"
   ]
  },
  {
   "cell_type": "markdown",
   "id": "44afde88",
   "metadata": {},
   "source": [
    "#### 4.2.3 字典的格式化字符串\n"
   ]
  },
  {
   "cell_type": "code",
   "execution_count": 19,
   "id": "33c1fba1",
   "metadata": {},
   "outputs": [
    {
     "name": "stdout",
     "output_type": "stream",
     "text": [
      "Bob's phone number is 987-654-3210\n"
     ]
    }
   ],
   "source": [
    "phonebook = {'Alice': '123-456-7890',\n",
    "             'Bob': '987-654-3210',\n",
    "             'Charlie': '555-555-5555'}\n",
    "\n",
    "print(\"Bob\\'s phone number is %(Bob)s\" % phonebook)"
   ]
  },
  {
   "cell_type": "markdown",
   "id": "a1565c24",
   "metadata": {},
   "source": [
    "#### 4.2.4 字典方法\n",
    "- clear 清除字典中所有项\n",
    "- copy  返回一个具有相同键值对的新字典\n",
    "- deepcopy\n",
    "- fromkeys\n",
    "- get\n",
    "- has_key\n",
    "- items 和 iteritems\n",
    "- keys and iterkeys\n",
    "- pop\n",
    "- popitem\n",
    "- setdefault\n",
    "- update\n",
    "- values and itervalues"
   ]
  }
 ],
 "metadata": {
  "kernelspec": {
   "display_name": "Python 3",
   "language": "python",
   "name": "python3"
  },
  "language_info": {
   "codemirror_mode": {
    "name": "ipython",
    "version": 3
   },
   "file_extension": ".py",
   "mimetype": "text/x-python",
   "name": "python",
   "nbconvert_exporter": "python",
   "pygments_lexer": "ipython3",
   "version": "3.13.5"
  }
 },
 "nbformat": 4,
 "nbformat_minor": 5
}
