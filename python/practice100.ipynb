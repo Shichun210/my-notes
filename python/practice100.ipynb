{
 "cells": [
  {
   "cell_type": "code",
   "execution_count": 14,
   "id": "6f5e3771",
   "metadata": {},
   "outputs": [
    {
     "name": "stdout",
     "output_type": "stream",
     "text": [
      "x = 3\n",
      "math.sqrt(16) = 4.0\n",
      "triSquare(3, 4) = 6.0 square meters\n",
      "78.53981633974483\n"
     ]
    }
   ],
   "source": [
    "x = lambda a, b: a + b\n",
    "print('x =', x(1, 2))  # 输出 3\n",
    "\n",
    "import math\n",
    "print('math.sqrt(16) =', math.sqrt(16))  # 输出 4.0\n",
    "\n",
    "def triSquare(a, b):\n",
    "    \"\"\"计算三角形的面积\"\"\"\n",
    "    return a * b / 2\n",
    "print('triSquare(3, 4) =', triSquare(3, 4), 'square meters')  # 输出 6.0\n",
    "\n",
    "def findArea(r):\n",
    "    return math.pi * r * r\n",
    "print(findArea(5))  # 输出 78.53981633974483\n",
    "\n"
   ]
  },
  {
   "cell_type": "code",
   "execution_count": 20,
   "id": "d7d312d7",
   "metadata": {},
   "outputs": [
    {
     "name": "stdout",
     "output_type": "stream",
     "text": [
      "randamNumber = 0.03036411861228816\n",
      "3\n",
      "apple\n",
      "[14, 32, 20, 29, 7]\n"
     ]
    }
   ],
   "source": [
    "import random\n",
    "\n",
    "randamNumber = random.random()\n",
    "print('randamNumber =', randamNumber)  # 输出一个0到1之间\n",
    "print(random.randint(1, 10))  # 输出一个1到10之间的整数\n",
    "\n",
    "print(random.choice(['apple', 'banana', 'cherry']))  # 随机选择一个水果\n",
    "print(random.sample(range(1, 100), 5))  # 从1到100"
   ]
  },
  {
   "cell_type": "code",
   "execution_count": 21,
   "id": "83f82e46",
   "metadata": {},
   "outputs": [
    {
     "name": "stdout",
     "output_type": "stream",
     "text": [
      "swap(1, 2) = (2, 1)\n"
     ]
    }
   ],
   "source": [
    "def swap(a, b):\n",
    "    \"\"\"交换两个变量的值\"\"\"\n",
    "    return b, a\n",
    "\n",
    "print('swap(1, 2) =', swap(1, 2))  # 输出 (2, 1)"
   ]
  },
  {
   "cell_type": "code",
   "execution_count": 24,
   "id": "b8463837",
   "metadata": {},
   "outputs": [
    {
     "name": "stdout",
     "output_type": "stream",
     "text": [
      "judge(10) = 正数\n"
     ]
    }
   ],
   "source": [
    "def judge(a):\n",
    "    if a > 0:\n",
    "        return '正数'\n",
    "    elif a < 0:\n",
    "        return '负数'\n",
    "    else:\n",
    "        return '零'\n",
    "\n",
    "print('judge(10) =', judge(10))  # 输出 正数"
   ]
  },
  {
   "cell_type": "code",
   "execution_count": 25,
   "id": "c4c80b09",
   "metadata": {},
   "outputs": [
    {
     "name": "stdout",
     "output_type": "stream",
     "text": [
      "isNumber(10) = True\n",
      "isNumber(\"10\") = False\n"
     ]
    }
   ],
   "source": [
    "def isNumber(a):\n",
    "    \"\"\"判断是否为数字\"\"\"\n",
    "    return isinstance(a, (int, float))\n",
    "print('isNumber(10) =', isNumber(10))  # 输出 True\n",
    "print('isNumber(\"10\") =', isNumber(\"10\"))  # 输出 False"
   ]
  },
  {
   "cell_type": "code",
   "execution_count": 29,
   "id": "0e12970b",
   "metadata": {},
   "outputs": [
    {
     "name": "stdout",
     "output_type": "stream",
     "text": [
      "零\n"
     ]
    }
   ],
   "source": [
    "def oddEven(a):\n",
    "    if a == 0:\n",
    "        print ('零')\n",
    "    elif a % 2 == 0: \n",
    "        print ('偶数')\n",
    "    else:\n",
    "        print ('奇数')\n",
    "\n",
    "oddEven(0)  # 输出 偶数\n"
   ]
  },
  {
   "cell_type": "code",
   "execution_count": 30,
   "id": "5b67025f",
   "metadata": {},
   "outputs": [
    {
     "name": "stdout",
     "output_type": "stream",
     "text": [
      "2020 是闰年\n"
     ]
    }
   ],
   "source": [
    "def isRunnian(year):\n",
    "    if year % 4 == 0 and (year % 100 != 0 or year % 400 == 0):\n",
    "        print(year, '是闰年')\n",
    "    else:\n",
    "        print(year, '不是闰年')\n",
    "\n",
    "isRunnian(2020)  # 输出 2020 是闰年"
   ]
  },
  {
   "cell_type": "code",
   "execution_count": 34,
   "id": "346dfeeb",
   "metadata": {},
   "outputs": [
    {
     "name": "stdout",
     "output_type": "stream",
     "text": [
      "3\n",
      "z\n"
     ]
    }
   ],
   "source": [
    "print(max(1, 2, 3))  # 输出 3\n",
    "print(max(\"a,b,c,d,z\"))"
   ]
  },
  {
   "cell_type": "code",
   "execution_count": 40,
   "id": "657d62e5",
   "metadata": {},
   "outputs": [
    {
     "name": "stdout",
     "output_type": "stream",
     "text": [
      "是素数\n",
      "不是素数\n",
      "是素数\n"
     ]
    }
   ],
   "source": [
    "def isPrime(n):\n",
    "    if n < 2:\n",
    "        print('不是素数')\n",
    "    elif n == 2:\n",
    "        print('是素数')\n",
    "    else:\n",
    "        for i in range(2, n):\n",
    "            if n % i == 0:\n",
    "                print('不是素数')\n",
    "                return\n",
    "        print('是素数')\n",
    "\n",
    "isPrime(3) \n",
    "isPrime(10)  # 输出 不是素数\n",
    "isPrime(2)  # 输出 "
   ]
  },
  {
   "cell_type": "code",
   "execution_count": 47,
   "id": "ca6f6610",
   "metadata": {},
   "outputs": [
    {
     "name": "stdout",
     "output_type": "stream",
     "text": [
      "2 3 5 7 11 13 17 19 23 29 31 37 41 43 47 53 59 61 67 71 73 79 83 89 97 101 103 107 109 113 127 131 137 139 149 151 157 163 167 173 179 181 191 193 197 199 211 223 "
     ]
    }
   ],
   "source": [
    "\n",
    "def isPrime(n):\n",
    "    if n < 2:\n",
    "        return False\n",
    "    elif n == 2:\n",
    "        return True\n",
    "    else:\n",
    "        for i in range(2, n):\n",
    "            if n % i == 0:\n",
    "                return False\n",
    "        return True\n",
    "\n",
    "def printPrimeInRange(start, end):\n",
    "    for num in range(start, end + 1):\n",
    "        if isPrime(num):\n",
    "            print(num, end=' ')\n",
    "        \n",
    "printPrimeInRange(1, 223)  # 输出 1到100之间的素数"
   ]
  },
  {
   "cell_type": "code",
   "execution_count": 48,
   "id": "f8b7792e",
   "metadata": {},
   "outputs": [
    {
     "name": "stdout",
     "output_type": "stream",
     "text": [
      "1 * 1 = 1\t\n",
      "2 * 1 = 2\t2 * 2 = 4\t\n",
      "3 * 1 = 3\t3 * 2 = 6\t3 * 3 = 9\t\n",
      "4 * 1 = 4\t4 * 2 = 8\t4 * 3 = 12\t4 * 4 = 16\t\n",
      "5 * 1 = 5\t5 * 2 = 10\t5 * 3 = 15\t5 * 4 = 20\t5 * 5 = 25\t\n",
      "6 * 1 = 6\t6 * 2 = 12\t6 * 3 = 18\t6 * 4 = 24\t6 * 5 = 30\t6 * 6 = 36\t\n",
      "7 * 1 = 7\t7 * 2 = 14\t7 * 3 = 21\t7 * 4 = 28\t7 * 5 = 35\t7 * 6 = 42\t7 * 7 = 49\t\n",
      "8 * 1 = 8\t8 * 2 = 16\t8 * 3 = 24\t8 * 4 = 32\t8 * 5 = 40\t8 * 6 = 48\t8 * 7 = 56\t8 * 8 = 64\t\n",
      "9 * 1 = 9\t9 * 2 = 18\t9 * 3 = 27\t9 * 4 = 36\t9 * 5 = 45\t9 * 6 = 54\t9 * 7 = 63\t9 * 8 = 72\t9 * 9 = 81\t\n"
     ]
    }
   ],
   "source": [
    "for i in range(1, 10):\n",
    "    for j in range(1, i + 1):\n",
    "        print(f'{i} * {j} = {i * j}', end='\\t')\n",
    "    print()  # 换行"
   ]
  },
  {
   "cell_type": "code",
   "execution_count": 1,
   "id": "1ddbf1f7",
   "metadata": {},
   "outputs": [
    {
     "name": "stdout",
     "output_type": "stream",
     "text": [
      "2\n"
     ]
    }
   ],
   "source": [
    "\n",
    "def hcf(a, b):\n",
    "    \"\"\"计算最大公约数\"\"\"\n",
    "    if a > b:\n",
    "        smaller = b\n",
    "    else:\n",
    "        smaller = a\n",
    "    for i in range(2, smaller + 1):\n",
    "        if(a % i == 0) and (b % i == 0):\n",
    "            return i\n",
    "\n",
    "print(hcf(56, 64))\n",
    "\n"
   ]
  },
  {
   "cell_type": "code",
   "execution_count": 2,
   "id": "9a775575",
   "metadata": {},
   "outputs": [
    {
     "name": "stdout",
     "output_type": "stream",
     "text": [
      "15\n",
      "5\n",
      "50\n",
      "2.0\n"
     ]
    }
   ],
   "source": [
    "def calculater(a, b, operation):\n",
    "    return eval(f\"{a} {operation} {b}\")\n",
    "\n",
    "print(calculater(10, 5, '+'))  # 输出 15\n",
    "print(calculater(10, 5, '-'))  # 输出 5\n",
    "print(calculater(10, 5, '*'))  # 输出 50\n",
    "print(calculater(10, 5, '/'))  # 输出 2.0"
   ]
  },
  {
   "cell_type": "code",
   "execution_count": 11,
   "id": "bba25452",
   "metadata": {},
   "outputs": [
    {
     "name": "stdout",
     "output_type": "stream",
     "text": [
      "False\n",
      "当前时间: 2025-08-01\n"
     ]
    }
   ],
   "source": [
    "str = \"Hello, World!\"\n",
    "print(str.isspace())  # 输出 False\n",
    "\n",
    "import datetime\n",
    "now = datetime.date.today()\n",
    "print('当前时间:', now)  # 输出当前时间\n",
    "\n"
   ]
  },
  {
   "cell_type": "code",
   "execution_count": 15,
   "id": "fa7be241",
   "metadata": {},
   "outputs": [
    {
     "name": "stdout",
     "output_type": "stream",
     "text": [
      "sumOfSeries(5) = 225\n",
      "15\n"
     ]
    }
   ],
   "source": [
    "def sumOfSeries(n):\n",
    "    sum = 0\n",
    "    for i in range(1, n + 1):\n",
    "        sum += i * i * i\n",
    "    return sum\n",
    "\n",
    "print('sumOfSeries(5) =', sumOfSeries(5))\n",
    "\n",
    "print(sum({1, 2, 3, 4, 5}))  # 输出 15"
   ]
  },
  {
   "cell_type": "code",
   "execution_count": 19,
   "id": "debd429b",
   "metadata": {},
   "outputs": [
    {
     "name": "stdout",
     "output_type": "stream",
     "text": [
      "[7, 1, 2, 3, 4, 5, 6]\n"
     ]
    }
   ],
   "source": [
    "a = [1, 2, 3, 4, 5, 6, 7]\n",
    "\n",
    "def reverseList(lst, number):\n",
    "    for i in range(number):\n",
    "        lst.append(lst[0])\n",
    "        lst.remove(lst[0])\n",
    "    return lst\n",
    "\n",
    "print(reverseList(a, 6))  # 输出 [5, 6, 7, 4, 3, 2, 1]\n"
   ]
  },
  {
   "cell_type": "code",
   "execution_count": 20,
   "id": "2b9d5b75",
   "metadata": {},
   "outputs": [
    {
     "name": "stdout",
     "output_type": "stream",
     "text": [
      "[7, 2, 3, 4, 5, 6, 1]\n"
     ]
    }
   ],
   "source": [
    "\n",
    "a = [1, 2, 3, 4, 5, 6, 7]\n",
    "\n",
    "def swapList(lst):\n",
    "    a[0], a[-1] = a[-1], a[0]\n",
    "    return lst\n",
    "\n",
    "print(swapList(a))  # 输出 [7, 2, 3, 4, 5, 6, 1]"
   ]
  },
  {
   "cell_type": "code",
   "execution_count": 21,
   "id": "3016ea84",
   "metadata": {},
   "outputs": [
    {
     "name": "stdout",
     "output_type": "stream",
     "text": [
      "[7, 2, 3, 4, 5, 6, 1]\n"
     ]
    }
   ],
   "source": [
    "a = [1, 2, 3, 4, 5, 6, 7]\n",
    "\n",
    "def swapList(lst, index1, index2):\n",
    "    lst[index1], lst[index2] = lst[index2], lst[index1]\n",
    "    return lst\n",
    "print(swapList(a, 0, 6))  # 输出 [7, 2, 3, 4, 5, 6, 1]"
   ]
  },
  {
   "cell_type": "code",
   "execution_count": 28,
   "id": "0c1c6e0b",
   "metadata": {},
   "outputs": [
    {
     "name": "stdout",
     "output_type": "stream",
     "text": [
      "4 在列表中\n"
     ]
    }
   ],
   "source": [
    "def isInList(lst, item):\n",
    "    for i in lst:\n",
    "        if i == item:\n",
    "            print(f'{item} 在列表中')\n",
    "            return\n",
    "    print(f'{item} 不在列表中')\n",
    "\n",
    "a = [1, 2, 3, 4, 5, 6, 7]\n",
    "isInList(a, 4)  # 输出 3 在列表中"
   ]
  },
  {
   "cell_type": "code",
   "execution_count": 29,
   "id": "ff81a08f",
   "metadata": {},
   "outputs": [
    {
     "name": "stdout",
     "output_type": "stream",
     "text": [
      "[1, 2, 3, 4, 5, 6, 7]\n",
      "[]\n"
     ]
    }
   ],
   "source": [
    "a = [1, 2, 3, 4, 5, 6, 7]\n",
    "print(a)  # 输出 [1, 2, 3, 4, 5, 6, 7]\n",
    "a.clear()  # 清空列表\n",
    "print(a)  # 输出 []"
   ]
  },
  {
   "cell_type": "code",
   "execution_count": 41,
   "id": "3ebfe750",
   "metadata": {},
   "outputs": [
    {
     "name": "stdout",
     "output_type": "stream",
     "text": [
      "listB = [1, 2, 3, 4, 5, 6, 7]\n",
      "2418305030592\n",
      "2418305037440\n"
     ]
    }
   ],
   "source": [
    "listA = [1, 2, 3, 4, 5, 6, 7]\n",
    "listB = listA.copy()\n",
    "print('listB =', listB)  # 输出 [1, 2, 3, 4, 5, 6, 7]\n",
    "print(id(listA))  # 输出 True，表示 listB 是 listA 的引用\n",
    "print(id(listB))  # 输出 True，表示 listB 是 listA 的引用\n"
   ]
  },
  {
   "cell_type": "code",
   "execution_count": 43,
   "id": "2335b9e6",
   "metadata": {},
   "outputs": [
    {
     "name": "stdout",
     "output_type": "stream",
     "text": [
      "count = 3\n"
     ]
    }
   ],
   "source": [
    "def countEle(lst, element):\n",
    "    count = 0\n",
    "    for ele in lst:\n",
    "        if ele == element:\n",
    "            count += 1\n",
    "    return count\n",
    "\n",
    "a = [1,2,3,4,5,6,7,5,8,0,3,5]\n",
    "print('count =', countEle(a, 5))\n",
    "        "
   ]
  },
  {
   "cell_type": "code",
   "execution_count": 51,
   "id": "9e41ed46",
   "metadata": {},
   "outputs": [
    {
     "name": "stdout",
     "output_type": "stream",
     "text": [
      "[1, 2, 4, 5, 7]\n"
     ]
    }
   ],
   "source": [
    "a = [1,2,7,4,5]\n",
    "a.sort()\n",
    "print(a)"
   ]
  },
  {
   "cell_type": "code",
   "execution_count": 54,
   "id": "484e60c8",
   "metadata": {},
   "outputs": [
    {
     "name": "stdout",
     "output_type": "stream",
     "text": [
      "No\n"
     ]
    }
   ],
   "source": [
    "string1 = \"www.baidu.com\"\n",
    "sub_str = \"baidq\"\n",
    "\n",
    "if sub_str in string1:\n",
    "    print(\"Yes\")\n",
    "else:\n",
    "    print(\"No\")\n"
   ]
  },
  {
   "cell_type": "code",
   "execution_count": 71,
   "id": "089f495e",
   "metadata": {},
   "outputs": [
    {
     "name": "stdout",
     "output_type": "stream",
     "text": [
      "7 6 4 3 1 "
     ]
    }
   ],
   "source": [
    "string1 = [1, 3, 4, 6, 7]\n",
    "string2 = reversed(string1)\n",
    "for x in string2:\n",
    "    print(x, end=' ')"
   ]
  },
  {
   "cell_type": "code",
   "execution_count": 80,
   "id": "70e5a339",
   "metadata": {},
   "outputs": [
    {
     "name": "stdout",
     "output_type": "stream",
     "text": [
      "[4, 5, 1, 2, 3, 6, 7]\n"
     ]
    }
   ],
   "source": [
    "def reversList(lst, start, n):\n",
    "    if start + n <= len(lst):\n",
    "        revlst = lst[start - 1 : start + n - 1]\n",
    "        for _ in range(n):\n",
    "            lst.pop(start - 1)\n",
    "        return revlst + lst\n",
    "    else:\n",
    "        print(\"out of range\")\n",
    "\n",
    "string1 = [1, 2, 3, 4, 5, 6, 7]\n",
    "string2 = reversList(string1, 4, 2)\n",
    "print(string2)"
   ]
  },
  {
   "cell_type": "code",
   "execution_count": 89,
   "id": "64e7fede",
   "metadata": {},
   "outputs": [
    {
     "name": "stdout",
     "output_type": "stream",
     "text": [
      "{2: 56, 1: 2, 5: 12, 4: 24, 6: 18, 3: 323}\n",
      "{1: 2, 2: 56, 3: 323, 4: 24, 5: 12, 6: 18}\n"
     ]
    }
   ],
   "source": [
    "key_value ={}     \n",
    " \n",
    "    # 初始化\n",
    "key_value[2] = 56       \n",
    "key_value[1] = 2 \n",
    "key_value[5] = 12 \n",
    "key_value[4] = 24\n",
    "key_value[6] = 18      \n",
    "key_value[3] = 323\n",
    "\n",
    "key_value_sorted = {}\n",
    "for i in sorted(key_value):\n",
    "    key_value_sorted[i] =  key_value[i]\n",
    "\n",
    "print(key_value)\n",
    "print(key_value_sorted)"
   ]
  },
  {
   "cell_type": "code",
   "execution_count": 92,
   "id": "78e629c9",
   "metadata": {},
   "outputs": [
    {
     "name": "stdout",
     "output_type": "stream",
     "text": [
      "{'a': 10, 'b': 8, 'd': 6, 'c': 4}\n"
     ]
    }
   ],
   "source": [
    "dict1 = {'a': 10, 'b': 8} \n",
    "dict2 = {'d': 6, 'c': 4} \n",
    "dict1.update(dict2)\n",
    "print(dict1)"
   ]
  },
  {
   "cell_type": "code",
   "execution_count": 95,
   "id": "dc9e64b2",
   "metadata": {},
   "outputs": [
    {
     "name": "stdout",
     "output_type": "stream",
     "text": [
      "[1, 2, 22, 43, 45, 56, 62, 67, 773, 2323]\n"
     ]
    }
   ],
   "source": [
    "def bubbleSort(arr):\n",
    "    n = len(arr)\n",
    "    for i in range(n):\n",
    "        for j in range(0, n-i-1):\n",
    "            if arr[j] > arr[j+1]:\n",
    "                arr[j], arr[j+1] = arr[j+1], arr[j]\n",
    "arr = [43, 56, 67, 22, 45, 773, 2323, 1, 62, 2]\n",
    "bubbleSort(arr)\n",
    "print(arr)\n"
   ]
  },
  {
   "cell_type": "code",
   "execution_count": 100,
   "id": "c00cfadc",
   "metadata": {},
   "outputs": [
    {
     "name": "stdout",
     "output_type": "stream",
     "text": [
      "6\n"
     ]
    }
   ],
   "source": [
    "def get_jiecheng(number):\n",
    "    result = 1\n",
    "    for _ in range(number):\n",
    "        result *= number\n",
    "        number -= 1\n",
    "    return result\n",
    "\n",
    "x = get_jiecheng(3)\n",
    "print(x)"
   ]
  },
  {
   "cell_type": "code",
   "execution_count": 102,
   "id": "434e2cc3",
   "metadata": {},
   "outputs": [
    {
     "name": "stdout",
     "output_type": "stream",
     "text": [
      "[10, 20, 30]\n"
     ]
    }
   ],
   "source": [
    "listA = [10, 20, 30, 10, 20]\n",
    "\n",
    "# for i in listA:\n",
    "#     if listA.count(i) > 1:\n",
    "#         listA.remove(i)\n",
    "\n",
    "result = []\n",
    "\n",
    "for item in listA:\n",
    "    if item not in result:\n",
    "        result.append(item)\n",
    "\n",
    "print(result)"
   ]
  },
  {
   "cell_type": "code",
   "execution_count": 107,
   "id": "63085d57",
   "metadata": {},
   "outputs": [
    {
     "name": "stdout",
     "output_type": "stream",
     "text": [
      "[50, 40, 30, 20, 10]\n",
      "['aa', 'bb', 'ee', 'ff', 'gg']\n"
     ]
    }
   ],
   "source": [
    "a = [20, 50, 10, 40, 30]\n",
    "b = ['bb', 'aa', 'gg', 'ff', 'ee']\n",
    "\n",
    "c = sorted(a, reverse=True)\n",
    "d = sorted(b)\n",
    "print(c)\n",
    "print(d)"
   ]
  },
  {
   "cell_type": "code",
   "execution_count": 119,
   "id": "dbc7677d",
   "metadata": {},
   "outputs": [
    {
     "name": "stdout",
     "output_type": "stream",
     "text": [
      "[{'sno': 103, 'sname': '小李', 'sgrade': 99}, {'sno': 101, 'sname': '小张', 'sgrade': 88}, {'sno': 102, 'sname': '小王', 'sgrade': 77}, {'sno': 104, 'sname': '小赵', 'sgrade': 66}]\n"
     ]
    }
   ],
   "source": [
    "students = [\n",
    "    {'sno': 101, 'sname': \"小张\", 'sgrade': 88},\n",
    "    {'sno': 102, 'sname': \"小王\", 'sgrade': 77},\n",
    "    {'sno': 103, 'sname': \"小李\", 'sgrade': 99},\n",
    "    {'sno': 104, 'sname': \"小赵\", 'sgrade': 66}\n",
    "]\n",
    "\n",
    "students_sort = sorted(students, key=lambda x: x['sgrade'], reverse=True)\n",
    "\n",
    "print(students_sort)"
   ]
  },
  {
   "cell_type": "code",
   "execution_count": 132,
   "id": "cc748c4c",
   "metadata": {},
   "outputs": [
    {
     "name": "stdout",
     "output_type": "stream",
     "text": [
      "[['101', '小张', '88'], ['102', '小王', '77'], ['103', '小李', '96'], ['104', '小赵', '85'], ['105', '小闵', '100']]\n",
      "[['105', '小闵', '100'], ['103', '小李', '96'], ['101', '小张', '88'], ['104', '小赵', '85'], ['102', '小王', '77']]\n",
      "最高分：100, 最低分：77\n"
     ]
    }
   ],
   "source": [
    "def read_file():\n",
    "    result = []\n",
    "    with open(\"./students.txt\", 'r', encoding=\"utf-8\") as fin:\n",
    "        for line in fin:\n",
    "            line = line.strip()\n",
    "            result.append(line.split(','))\n",
    "        return result\n",
    "\n",
    "def sort_grades(datas):\n",
    "    return sorted(datas, key=lambda x: int(x[2]), reverse=True)\n",
    "\n",
    "datas = read_file()\n",
    "data1 = sort_grades(datas)\n",
    "print(datas)\n",
    "print(data1)\n",
    "arrLen = len(data1)\n",
    "print(f'最高分：{data1[0][2]}, 最低分：{data1[arrLen-1][2]}')"
   ]
  },
  {
   "cell_type": "code",
   "execution_count": null,
   "id": "63e0170b",
   "metadata": {},
   "outputs": [
    {
     "name": "stdout",
     "output_type": "stream",
     "text": [
      "{'101,小张,88': 1, '102,小王,77': 1, '103,小李,96': 1, '104,小赵,85': 1, '105,小闵,100,105小闵,100': 1, '105,小闵,100': 1, 'hello': 2, 'world,': 1, 'nihao,': 1}\n"
     ]
    }
   ],
   "source": [
    "def read_file():\n",
    "    word_count = {}\n",
    "    with open(\"./students.txt\", 'r', encoding=\"utf-8\") as fin:\n",
    "        for line in fin:\n",
    "            line = line.strip()\n",
    "            words = line.split()\n",
    "            for word in words:\n",
    "                if word not in word_count:\n",
    "                    word_count[word] = 0\n",
    "                word_count[word] += 1\n",
    "    return word_count\n",
    "\n",
    "print(read_file())\n",
    "\n"
   ]
  },
  {
   "cell_type": "code",
   "execution_count": 159,
   "id": "41939644",
   "metadata": {},
   "outputs": [
    {
     "name": "stdout",
     "output_type": "stream",
     "text": [
      "131\n",
      "dirSize = 234.54 KB\n"
     ]
    }
   ],
   "source": [
    "import os\n",
    "print(os.path.getsize(\"./students.txt\"))\n",
    "\n",
    "dirSize = 0\n",
    "for file in os.listdir(\".\"):\n",
    "    if os.path.isfile(file):\n",
    "        dirSize +=os.path.getsize(file)\n",
    "\n",
    "print(f'dirSize = {dirSize/1024:.2f} KB')"
   ]
  },
  {
   "cell_type": "code",
   "execution_count": 184,
   "id": "7504c098",
   "metadata": {},
   "outputs": [
    {
     "name": "stdout",
     "output_type": "stream",
     "text": [
      "{'篮球': 4, '羽毛球': 3, '乒乓球': 3, '台球': 4, '足球': 2}\n"
     ]
    }
   ],
   "source": [
    "interest_students = {}\n",
    "\n",
    "with open(\"./interest.txt\", 'r', encoding=\"utf-8\") as fin:\n",
    "    for line in fin:\n",
    "        line = line.strip()\n",
    "        student, likes = line.split()\n",
    "        like_list = likes.split(',')\n",
    "        for like in like_list:\n",
    "            if like not in interest_students:\n",
    "                interest_students[like] = 0\n",
    "            interest_students[like] += 1\n",
    "\n",
    "print(interest_students)\n",
    "        \n",
    "\n",
    "\n"
   ]
  },
  {
   "cell_type": "code",
   "execution_count": 189,
   "id": "6797b161",
   "metadata": {},
   "outputs": [
    {
     "name": "stdout",
     "output_type": "stream",
     "text": [
      "2025\n",
      "2025-08-04 15:44:59\n"
     ]
    }
   ],
   "source": [
    "import datetime\n",
    "\n",
    "curr_datetime = datetime.datetime.now()\n",
    "print(curr_datetime.year)\n",
    "str_time = curr_datetime.strftime(\"%Y-%m-%d %H:%M:%S\")\n",
    "print(str_time)"
   ]
  },
  {
   "cell_type": "code",
   "execution_count": 193,
   "id": "9745b5fa",
   "metadata": {},
   "outputs": [
    {
     "name": "stdout",
     "output_type": "stream",
     "text": [
      "15881 days, 13:20:13.361811\n"
     ]
    }
   ],
   "source": [
    "curr_datetime = datetime.datetime.now()\n",
    "birthday = \"1982-02-10 02:30:00\"\n",
    "birthday_date = datetime.datetime.strptime(birthday, \"%Y-%m-%d %H:%M:%S\")\n",
    "\n",
    "delta_date = curr_datetime - birthday_date\n",
    "print(delta_date)\n",
    "\n"
   ]
  },
  {
   "cell_type": "code",
   "execution_count": 195,
   "id": "9c00b23a",
   "metadata": {},
   "outputs": [
    {
     "name": "stdout",
     "output_type": "stream",
     "text": [
      "['2021-04-28', '2021-04-29', '2021-04-30', '2021-05-01', '2021-05-02', '2021-05-03']\n"
     ]
    }
   ],
   "source": [
    "def get_date_range(begin_date, end_date):\n",
    "    date_list = []\n",
    "    while begin_date <= end_date:\n",
    "        date_list.append(begin_date)\n",
    "        begin_date_obj = datetime.datetime.strptime(begin_date, \"%Y-%m-%d\")\n",
    "        days1_timedelta = datetime.timedelta(days=1)\n",
    "        begin_date = (begin_date_obj + days1_timedelta).strftime(\"%Y-%m-%d\")\n",
    "    return date_list\n",
    "\n",
    "\n",
    "begin_date = \"2021-04-28\"\n",
    "end_date = \"2021-05-03\"\n",
    "\n",
    "date_list = get_date_range(begin_date, end_date)\n",
    "print(date_list)"
   ]
  },
  {
   "cell_type": "code",
   "execution_count": 200,
   "id": "8d4d9268",
   "metadata": {},
   "outputs": [
    {
     "name": "stdout",
     "output_type": "stream",
     "text": [
      "2021-05-20 True\n",
      "202-05-20 False\n",
      "2021/05-20 False\n",
      "20210520 False\n"
     ]
    }
   ],
   "source": [
    "import re\n",
    "\n",
    "def date_is_right(date):\n",
    "    return re.match(r\"\\d{4}-\\d{2}-\\d{2}\", date) is not None\n",
    "\n",
    "date1 = \"2021-05-20\"\n",
    "date2 = \"202-05-20\"\n",
    "date3 = \"2021/05-20\"\n",
    "date4 = \"20210520\"\n",
    "\n",
    "print(date1, date_is_right(date1))\n",
    "print(date2, date_is_right(date2))\n",
    "print(date3, date_is_right(date3))\n",
    "print(date4, date_is_right(date4))"
   ]
  },
  {
   "cell_type": "code",
   "execution_count": null,
   "id": "baf1fbcf",
   "metadata": {},
   "outputs": [
    {
     "name": "stdout",
     "output_type": "stream",
     "text": [
      "['19989881888', '15619292345']\n"
     ]
    }
   ],
   "source": [
    "content = \"\"\"\n",
    "    白日19989881888依山尽，黄河入456455464687988978海流.\n",
    "    欲穷12345千里目，更上15619292345一层楼。\n",
    "\"\"\"\n",
    "# 手机号的模式：1开头，总11位，第二位是3-9\n",
    "\n",
    "pattern = r\"1[3-9]\\d{9}\"\n",
    "results = re.findall(pattern, content)\n",
    "print(results)"
   ]
  },
  {
   "cell_type": "code",
   "execution_count": 203,
   "id": "3eccfa56",
   "metadata": {},
   "outputs": [
    {
     "name": "stdout",
     "output_type": "stream",
     "text": [
      "HellowWorld#666 (True, None)\n",
      "HellowWorld666 (False, '密码必须包含至少一个特殊字符')\n"
     ]
    }
   ],
   "source": [
    "def check_pw(password):\n",
    "    if not 6 <= len(password) <=20:\n",
    "        return False, \"密码长度必须在6-20之间\"\n",
    "    if not re.findall(r\"[a-z]\",password):\n",
    "        return False, \"密码必须包含至少一个小写字母\"\n",
    "    if not re.findall(r\"[A-Z]\",password):\n",
    "        return False, \"密码必须包含至少一个大写字母\"\n",
    "    if not re.findall(r\"[0-9]\",password):\n",
    "        return False, \"密码必须包含至少一个数字\"\n",
    "    if not re.findall(r\"[^0-9a-zA-Z]\",password):\n",
    "        return False, \"密码必须包含至少一个特殊字符\"\n",
    "    return True, None\n",
    "\n",
    "print(\"HellowWorld#666\", check_pw(\"HellowWorld#666\"))\n",
    "print(\"HellowWorld666\", check_pw(\"HellowWorld666\"))"
   ]
  },
  {
   "cell_type": "code",
   "execution_count": 220,
   "id": "4158d57b",
   "metadata": {},
   "outputs": [
    {
     "name": "stdout",
     "output_type": "stream",
     "text": [
      "No books in the library.\n",
      "Added: 1984 by George Orwell\n",
      "Added: To kill a Mockingbird by Harper Lee\n",
      "list books:\n",
      "---------------------------------------------\n",
      "1984 by George Orwell\n",
      "To kill a Mockingbird by Harper Lee\n",
      "---------------------------------------------\n",
      "Found: 1984 by George Orwell\n",
      "Removed: 1984 by George Orwell\n",
      "list books:\n",
      "---------------------------------------------\n",
      "To kill a Mockingbird by Harper Lee\n",
      "---------------------------------------------\n"
     ]
    }
   ],
   "source": [
    "class Book:\n",
    "    def __init__(self, title, author):\n",
    "        self.title = title\n",
    "        self.author = author\n",
    "    \n",
    "    def __str__(self):\n",
    "        return f\"{self.title} by {self.author}\"\n",
    "    \n",
    "class Library:\n",
    "    def __init__(self):\n",
    "        self.books = []\n",
    "    \n",
    "    def add_book(self, title, author):\n",
    "        new_book = Book(title, author)\n",
    "        self.books.append(new_book)\n",
    "        print(f\"Added: {new_book}\")\n",
    "    \n",
    "    def remove_book(self, title):\n",
    "        for book in self.books:\n",
    "            if book.title == title:\n",
    "                self.books.remove(book)\n",
    "                print(f\"Removed: {book}\")\n",
    "                return\n",
    "        print(f\"Book with title '{title}' not found.\")\n",
    "    \n",
    "    def find_book(self, title):\n",
    "        for book in self.books:\n",
    "            if book.title == title:\n",
    "                print(f\"Found: {book}\")\n",
    "                return book\n",
    "        print(f\"Book with title '{title}' not found.\")\n",
    "        return None\n",
    "    \n",
    "    def list_books(self):\n",
    "        if not self.books:\n",
    "            print(\"No books in the library.\")\n",
    "        else:\n",
    "            print(\"list books:\")\n",
    "            print(\"---------------------------------------------\")\n",
    "            for book in self.books:\n",
    "                print(book)\n",
    "            print(\"---------------------------------------------\")\n",
    "    \n",
    "library = Library()\n",
    "library.list_books()\n",
    "library.add_book(\"1984\", \"George Orwell\")\n",
    "library.add_book(\"To kill a Mockingbird\", \"Harper Lee\")\n",
    "library.list_books()\n",
    "library.find_book(\"1984\")\n",
    "library.remove_book(\"1984\")\n",
    "library.list_books()\n",
    "    \n"
   ]
  },
  {
   "cell_type": "code",
   "execution_count": 224,
   "id": "1ebf5259",
   "metadata": {},
   "outputs": [
    {
     "name": "stdout",
     "output_type": "stream",
     "text": [
      "Name: Alice, age: 50\n"
     ]
    }
   ],
   "source": [
    "class Person:\n",
    "    def __init__(self, name, age):\n",
    "        self.name = name\n",
    "        self.age = age\n",
    "    def __str__(self):\n",
    "        return f\"Name: {self.name}, age: {self.age}\"\n",
    "\n",
    "p1 = Person(\"Alice\", 50)\n",
    "print(p1)\n"
   ]
  },
  {
   "cell_type": "code",
   "execution_count": 238,
   "id": "47d1e184",
   "metadata": {},
   "outputs": [
    {
     "name": "stdout",
     "output_type": "stream",
     "text": [
      "Stack: [1, 2, 3, 'a']\n",
      "a\n",
      "Stack: [1, 2, 3]\n",
      "3\n",
      "Stack: [1]\n",
      "stack is empty.\n"
     ]
    }
   ],
   "source": [
    "class Stack:\n",
    "    def __init__(self):\n",
    "        self.items = []\n",
    "    \n",
    "    def __str__(self):\n",
    "        if self.is_empty():\n",
    "            return f\"stack is empty.\"\n",
    "        else:\n",
    "            return f\"Stack: {self.items}\"\n",
    "    \n",
    "    def is_empty(self):\n",
    "        if not self.items:\n",
    "            return True\n",
    "        else:\n",
    "            return False\n",
    "\n",
    "    def push(self, item):\n",
    "        self.items.append(item)\n",
    "    \n",
    "    def pop(self):\n",
    "        if self.is_empty():\n",
    "            raise IndexError(\"pop from an empty stack.\")\n",
    "        return self.items.pop()\n",
    "    \n",
    "    def peek(self):\n",
    "        if self.is_empty():\n",
    "            print(\"stack is empty.\")\n",
    "        return self.items[-1]\n",
    "    \n",
    "    def size(self):\n",
    "        return len(self.items)\n",
    "\n",
    "stack1 = Stack()\n",
    "stack1.push(1)\n",
    "stack1.push(2)\n",
    "stack1.push(3)\n",
    "stack1.push('a')\n",
    "print(stack1)\n",
    "print(stack1.peek())\n",
    "stack1.pop()\n",
    "print(stack1)\n",
    "print(stack1.size())\n",
    "stack1.pop()\n",
    "stack1.pop()\n",
    "print(stack1)\n",
    "stack1.pop()\n",
    "print(stack1)\n"
   ]
  },
  {
   "cell_type": "code",
   "execution_count": 240,
   "id": "3c7ec86d",
   "metadata": {},
   "outputs": [
    {
     "name": "stdout",
     "output_type": "stream",
     "text": [
      "Apple - $0.5 x 3\n",
      "Banana - $0.3 x 5\n",
      "Total: $3.0\n"
     ]
    }
   ],
   "source": [
    "class ShoppingCart:\n",
    "    def __init__(self):\n",
    "        self.items = []\n",
    "    \n",
    "    def add_item(self, name, price, quantity=1):\n",
    "        self.items.append({'name': name, 'price': price, 'quantity': quantity})\n",
    "    \n",
    "    def remove_item(self, name):\n",
    "        for item in self.items:\n",
    "            if item[name] == name:\n",
    "                self.items.remove(item)\n",
    "                return self.items\n",
    "        return None\n",
    "    \n",
    "    def view_cart(self):\n",
    "        if not self.items:\n",
    "            print(\"Your cart is empty!\")\n",
    "        else:\n",
    "            for item in self.items:\n",
    "                print(f\"{item['name']} - ${item['price']} x {item['quantity']}\")\n",
    "    \n",
    "    def calculate_total(self):\n",
    "        return sum(item['price'] * item['quantity'] for item in self.items)\n",
    "    \n",
    "cart = ShoppingCart()\n",
    "cart.add_item('Apple', 0.5, 3)\n",
    "cart.add_item('Banana', 0.3, 5)\n",
    "cart.view_cart()\n",
    "print(f\"Total: ${cart.calculate_total()}\")\n",
    "    \n",
    "\n",
    "        "
   ]
  },
  {
   "cell_type": "code",
   "execution_count": 249,
   "id": "c478c713",
   "metadata": {},
   "outputs": [
    {
     "name": "stdout",
     "output_type": "stream",
     "text": [
      "Employee found: Alice, Salary: 50000\n"
     ]
    }
   ],
   "source": [
    "\n",
    "class Employee:\n",
    "    all_employees = []\n",
    "\n",
    "    def __init__(self, id, name, salary):\n",
    "        self.id = id\n",
    "        self.name = name\n",
    "        self.salary = salary\n",
    "\n",
    "        if not any(emp.id == id for emp in Employee.all_employees):\n",
    "            Employee.all_employees.append(self)\n",
    "        else:\n",
    "            print(f\"Employee with id {id} already exists, not adding again.\")\n",
    "    \n",
    "    def get_employee_by_id(id):\n",
    "        for emp in Employee.all_employees:\n",
    "            if emp.id == id:\n",
    "                return emp\n",
    "        else:\n",
    "            return None\n",
    "\n",
    "e1 = Employee(1, 'Alice', 50000)\n",
    "e2 = Employee(2, 'Bob', 60000)\n",
    "e3 = Employee(3, 'Charlie', 70000)\n",
    "\n",
    "result = Employee.get_employee_by_id(1)\n",
    "if result:\n",
    "    print(f\"Employee found: {result.name}, Salary: {result.salary}\")\n",
    "else:\n",
    "    print(\"Employee not found\")"
   ]
  },
  {
   "cell_type": "code",
   "execution_count": 259,
   "id": "2a816275",
   "metadata": {},
   "outputs": [
    {
     "name": "stdout",
     "output_type": "stream",
     "text": [
      "7\n",
      "Hello, Python!\n",
      "!dlroW ,olleH\n"
     ]
    }
   ],
   "source": [
    "class StringOperatons:\n",
    "    def __init__(self, text):\n",
    "        self.text = text\n",
    "    \n",
    "    def find_substring(self, substring):\n",
    "        return self.text.find(substring)\n",
    "    \n",
    "    def replace_substring(self, old_substring, new_substring):\n",
    "        return self.text.replace(old_substring, new_substring)\n",
    "    \n",
    "    def reverse_string(self):\n",
    "        return self.text[::-1]\n",
    "\n",
    "text = \"Hello, World!\"\n",
    "\n",
    "string_ops = StringOperatons(text)\n",
    "print(string_ops.find_substring(\"World\"))\n",
    "new_string = string_ops.replace_substring(\"World\", \"Python\")\n",
    "print(new_string)\n",
    "rev_string = string_ops.reverse_string()\n",
    "print(rev_string)\n"
   ]
  },
  {
   "cell_type": "code",
   "execution_count": 275,
   "id": "a629791f",
   "metadata": {},
   "outputs": [
    {
     "name": "stdout",
     "output_type": "stream",
     "text": [
      "Your balance : 100\n",
      "Deposit amount must be digit!\n",
      "Your balance : 10303\n",
      "withdraw amount must be digit!\n",
      "Your balance : 10000\n",
      "John Smith: balance $10000\n"
     ]
    }
   ],
   "source": [
    "class BankAccount:\n",
    "\n",
    "    def __init__(self, owner, balance=0):\n",
    "        self.owner = owner\n",
    "        self.balance = balance\n",
    "    \n",
    "    def __str__(self):\n",
    "        return f\"{self.owner}: balance ${self.balance}\"\n",
    "    \n",
    "    def deposit(self, amount):\n",
    "        if not isinstance(amount, int):\n",
    "            print(\"Deposit amount must be digit!\")\n",
    "            return None\n",
    "        if amount > 0:\n",
    "            self.balance += amount\n",
    "        else:\n",
    "            print(\"Deposit amount must be positive.\")\n",
    "    \n",
    "    def withdraw(self, amount):\n",
    "        if not isinstance(amount, int):\n",
    "            print(\"withdraw amount must be digit!\")\n",
    "            return None\n",
    "        if amount > 0 and self.balance >= amount:\n",
    "            self.balance -= amount\n",
    "        else:\n",
    "            print(\"Not sufficient balance!\")\n",
    "    \n",
    "    def check_balance(self):\n",
    "        print(f\"Your balance : {self.balance}\")\n",
    "\n",
    "account = BankAccount(\"John Smith\", 100)\n",
    "account.check_balance()\n",
    "account.deposit(\"1sfe32\")\n",
    "account.deposit(10203)\n",
    "account.check_balance()\n",
    "account.withdraw(\"welk2\")\n",
    "account.withdraw(303)\n",
    "account.check_balance()\n",
    "print(account)\n",
    "    \n"
   ]
  },
  {
   "cell_type": "code",
   "execution_count": 286,
   "id": "988acb7c",
   "metadata": {},
   "outputs": [
    {
     "name": "stdout",
     "output_type": "stream",
     "text": [
      "Inserted: name -> Alice\n",
      "Inserted: age -> 30\n",
      "******************************\n",
      "Database contents:\n",
      "name -> Alice\n",
      "age -> 30\n",
      "******************************\n",
      "Updated age -> 43\n",
      "Selected: age -> 43\n",
      "Inserted: hobit -> TV\n",
      "******************************\n",
      "Database contents:\n",
      "name -> Alice\n",
      "age -> 43\n",
      "hobit -> TV\n",
      "******************************\n",
      "Deleted hobit\n",
      "******************************\n",
      "Database contents:\n",
      "name -> Alice\n",
      "age -> 43\n",
      "******************************\n"
     ]
    }
   ],
   "source": [
    "class SimpleDB:\n",
    "    def __init__(self):\n",
    "        self.db = {}\n",
    "\n",
    "    def insert(self, key, value):\n",
    "        self.db[key] = value\n",
    "        print(f\"Inserted: {key} -> {value}\")\n",
    "    \n",
    "    def delete(self, key):\n",
    "        if key in self.db:\n",
    "            del self.db[key]\n",
    "            print(f\"Deleted {key}\")\n",
    "        else:\n",
    "            print(f\"Key {key} not found.\")\n",
    "    \n",
    "    def update(self, key, value):\n",
    "        if key in self.db:\n",
    "            self.db[key] = value\n",
    "            print(f\"Updated {key} -> {value}\")\n",
    "        else:\n",
    "            print(f\"Key {key} not found.\")\n",
    "    \n",
    "    def select(self, key):\n",
    "        if key in self.db:\n",
    "            print(f\"Selected: {key} -> {self.db[key]}\")\n",
    "        else:\n",
    "            print(f\"Key {key} not found.\")\n",
    "    \n",
    "    def show_all(self):\n",
    "        print(\"******************************\")\n",
    "        print(\"Database contents:\")\n",
    "        for key, value in self.db.items():\n",
    "            print(f\"{key} -> {value}\")\n",
    "        print(\"******************************\")\n",
    "\n",
    "db = SimpleDB()\n",
    "db.insert('name', 'Alice')\n",
    "db.insert('age', '30')\n",
    "db.show_all()\n",
    "db.update('age', 43)\n",
    "db.select('age')\n",
    "db.insert('hobit', 'TV')\n",
    "db.show_all()\n",
    "db.delete('hobit')\n",
    "db.show_all()"
   ]
  },
  {
   "cell_type": "code",
   "execution_count": 288,
   "id": "2e97beb7",
   "metadata": {},
   "outputs": [
    {
     "name": "stdout",
     "output_type": "stream",
     "text": [
      "Animal speaks.\n",
      "Dog barks.\n"
     ]
    }
   ],
   "source": [
    "class Animal:\n",
    "    def speak(self):\n",
    "        print(\"Animal speaks.\")\n",
    "\n",
    "class Dog(Animal):\n",
    "    def speak(self):\n",
    "        print(\"Dog barks.\")\n",
    "\n",
    "animal = Animal()\n",
    "animal.speak()\n",
    "\n",
    "doggy = Dog()\n",
    "doggy.speak()"
   ]
  },
  {
   "cell_type": "code",
   "execution_count": 304,
   "id": "17e35255",
   "metadata": {},
   "outputs": [
    {
     "name": "stdout",
     "output_type": "stream",
     "text": [
      "Hello, World!\n",
      "File Written successfully!\n",
      "lk1kjflkjsdkfjklj\n",
      "File Written successfully!\n",
      "Hello, World!\n"
     ]
    }
   ],
   "source": [
    "class TextFileHandler:\n",
    "    def __init__(self, filename):\n",
    "        self.filename = filename\n",
    "    \n",
    "    def read_file(self):\n",
    "        try:\n",
    "            with open(self.filename, 'r', encoding=\"utf-8\") as file:\n",
    "                content = file.read()\n",
    "            return content\n",
    "        except FileNotFoundError:\n",
    "            return \"File not found.\"\n",
    "    \n",
    "    def write_file(self, content):\n",
    "        with open(self.filename, 'w+', encoding=\"utf-8\") as file:\n",
    "            file.write(content)\n",
    "        return \"File Written successfully!\"\n",
    "    \n",
    "handler = TextFileHandler(\"./students.txt\")\n",
    "print(handler.read_file())\n",
    "print(handler.write_file(\"lk1kjflkjsdkfjklj\"))\n",
    "print(handler.read_file())\n",
    "print(handler.write_file(\"Hello, World!\"))\n",
    "print(handler.read_file())"
   ]
  },
  {
   "cell_type": "code",
   "execution_count": 1,
   "id": "ef764ff1",
   "metadata": {},
   "outputs": [
    {
     "name": "stdout",
     "output_type": "stream",
     "text": [
      "Alice joined this room!\n",
      "Bob joined this room!\n",
      "Miya joined this room!\n",
      "Ninia joined this room!\n",
      "Ninia: Miya, Are you there?\n",
      "Miya: Yes\n",
      "Bob left this room!\n",
      "['Alice', 'Miya', 'Ninia']\n"
     ]
    }
   ],
   "source": [
    "class ChatRoom:\n",
    "    def __init__(self, name):\n",
    "        self.name = name\n",
    "        self.users = []\n",
    "        self.messages = []\n",
    "    \n",
    "    def join(self, user):\n",
    "        self.users.append(user)\n",
    "        self.messages.append(f\"{user} joined this room!\")\n",
    "        print(self.messages[-1])\n",
    "    \n",
    "    def leave(self, user):\n",
    "        self.users.remove(user)\n",
    "        self.messages.append(f\"{user} left this room!\")\n",
    "        print(self.messages[-1])\n",
    "    \n",
    "    def send_messages(self, user, message):\n",
    "        self.messages.append(f\"{user}: {message}\")\n",
    "        print(self.messages[-1])\n",
    "    \n",
    "    def show_message_history(self):\n",
    "        print(\"*******************************\")\n",
    "        for message in self.messages:\n",
    "            print(message)\n",
    "        print(\"*******************************\")\n",
    "\n",
    "chat_room = ChatRoom(\"Python chat room\")\n",
    "chat_room.join(\"Alice\")\n",
    "chat_room.join(\"Bob\")\n",
    "chat_room.join(\"Miya\")\n",
    "chat_room.join(\"Ninia\")\n",
    "#chat_room.show_message_history()\n",
    "chat_room.send_messages(\"Ninia\",\"Miya, Are you there?\")\n",
    "chat_room.send_messages(\"Miya\",\"Yes\")\n",
    "#chat_room.show_message_history()\n",
    "chat_room.leave(\"Bob\")\n",
    "print(chat_room.users)\n",
    "\n"
   ]
  },
  {
   "cell_type": "code",
   "execution_count": 333,
   "id": "5d5a3a18",
   "metadata": {},
   "outputs": [
    {
     "name": "stdout",
     "output_type": "stream",
     "text": [
      "tmp_dict {0: 'cat', 6: 'dog', 3: 'sand', 4: 'and'}\n",
      "catsandanddog\n",
      "False\n"
     ]
    }
   ],
   "source": [
    "\n",
    "s = \"catsandog\"\n",
    "wordDict = [\"cats\", \"dog\", \"sand\", \"and\", \"cat\"]\n",
    "\n",
    "def if_combine(str, words):\n",
    "    tmp_dict = {}\n",
    "    for ele in words:\n",
    "        ind = s.find(ele)\n",
    "        if(ind != -1):\n",
    "            tmp_dict[ind] = ele\n",
    "        else:\n",
    "            continue\n",
    "    print(f\"tmp_dict {tmp_dict}\")\n",
    "    combined = \"\".join(tmp_dict[k] for k in sorted(tmp_dict.keys()))\n",
    "    print(combined)\n",
    "    return combined == str\n",
    "\n",
    "print(if_combine(s, wordDict))"
   ]
  },
  {
   "cell_type": "code",
   "execution_count": null,
   "id": "c55de1ab",
   "metadata": {},
   "outputs": [],
   "source": []
  }
 ],
 "metadata": {
  "kernelspec": {
   "display_name": "Python 3",
   "language": "python",
   "name": "python3"
  },
  "language_info": {
   "codemirror_mode": {
    "name": "ipython",
    "version": 3
   },
   "file_extension": ".py",
   "mimetype": "text/x-python",
   "name": "python",
   "nbconvert_exporter": "python",
   "pygments_lexer": "ipython3",
   "version": "3.13.5"
  }
 },
 "nbformat": 4,
 "nbformat_minor": 5
}
