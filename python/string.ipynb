{
 "cells": [
  {
   "cell_type": "markdown",
   "id": "a0ca4046",
   "metadata": {
    "vscode": {
     "languageId": "plaintext"
    }
   },
   "source": [
    "### basic string operations"
   ]
  },
  {
   "cell_type": "code",
   "execution_count": null,
   "id": "931ecc76",
   "metadata": {},
   "outputs": [
    {
     "ename": "TypeError",
     "evalue": "'str' object does not support item assignment",
     "output_type": "error",
     "traceback": [
      "\u001b[31m---------------------------------------------------------------------------\u001b[39m",
      "\u001b[31mTypeError\u001b[39m                                 Traceback (most recent call last)",
      "\u001b[36mCell\u001b[39m\u001b[36m \u001b[39m\u001b[32mIn[1]\u001b[39m\u001b[32m, line 2\u001b[39m\n\u001b[32m      1\u001b[39m website = \u001b[33m\"\u001b[39m\u001b[33mhttps://www.example.com\u001b[39m\u001b[33m\"\u001b[39m\n\u001b[32m----> \u001b[39m\u001b[32m2\u001b[39m \u001b[43mwebsite\u001b[49m\u001b[43m[\u001b[49m\u001b[43m-\u001b[49m\u001b[32;43m3\u001b[39;49m\u001b[43m:\u001b[49m\u001b[43m]\u001b[49m = \u001b[33m\"\u001b[39m\u001b[33morg\u001b[39m\u001b[33m\"\u001b[39m\n",
      "\u001b[31mTypeError\u001b[39m: 'str' object does not support item assignment"
     ]
    }
   ],
   "source": [
    "website = \"https://www.example.com\"\n",
    "website[-3:] = \"org\"\n",
    "# This code will raise an error because strings in Python are immutable.\n"
   ]
  },
  {
   "cell_type": "markdown",
   "id": "45413dde",
   "metadata": {},
   "source": [
    "### string format"
   ]
  },
  {
   "cell_type": "code",
   "execution_count": 4,
   "id": "98889bef",
   "metadata": {},
   "outputs": [
    {
     "name": "stdout",
     "output_type": "stream",
     "text": [
      "Hello. world. Hot enough for ya?\n"
     ]
    }
   ],
   "source": [
    "format = \"Hello. %s. %s enough for ya?\"\n",
    "values = (\"world\", \"Hot\")\n",
    "print(format % values)"
   ]
  },
  {
   "cell_type": "code",
   "execution_count": 5,
   "id": "fdede846",
   "metadata": {},
   "outputs": [
    {
     "name": "stdout",
     "output_type": "stream",
     "text": [
      "Pi with three decimals: 3.142\n"
     ]
    }
   ],
   "source": [
    "format = \"Pi with three decimals: %.3f\"\n",
    "from math import pi\n",
    "print(format % pi)"
   ]
  },
  {
   "cell_type": "code",
   "execution_count": 13,
   "id": "37cbc582",
   "metadata": {},
   "outputs": [
    {
     "data": {
      "text/plain": [
       "'PI = 3.14'"
      ]
     },
     "execution_count": 13,
     "metadata": {},
     "output_type": "execute_result"
    }
   ],
   "source": [
    "'price of a car is $%d' % 10000\n",
    "'price of egges is %x' % 42\n",
    "'PI = %.2f' % pi"
   ]
  },
  {
   "cell_type": "markdown",
   "id": "d4efe92c",
   "metadata": {},
   "source": [
    "### Template string"
   ]
  },
  {
   "cell_type": "code",
   "execution_count": 8,
   "id": "27c1bd19",
   "metadata": {},
   "outputs": [
    {
     "data": {
      "text/plain": [
       "'slurm, glorious slurm!'"
      ]
     },
     "execution_count": 8,
     "metadata": {},
     "output_type": "execute_result"
    }
   ],
   "source": [
    "from string import Template\n",
    "s = Template('$x, glorious $x!')\n",
    "s.substitute(x='slurm')"
   ]
  },
  {
   "cell_type": "code",
   "execution_count": 9,
   "id": "8515d586",
   "metadata": {},
   "outputs": [
    {
     "name": "stdout",
     "output_type": "stream",
     "text": [
      "A gentleman must never show his socks.\n"
     ]
    }
   ],
   "source": [
    "s  = Template('A $thing must never $action.')\n",
    "d = {}\n",
    "d['thing'] = 'gentleman'\n",
    "d['action'] = 'show his socks'\n",
    "print(s.substitute(d))"
   ]
  },
  {
   "cell_type": "markdown",
   "id": "7d30a6a3",
   "metadata": {},
   "source": [
    "### string functions"
   ]
  },
  {
   "cell_type": "markdown",
   "id": "d9a35aec",
   "metadata": {},
   "source": [
    "#### string constants function"
   ]
  },
  {
   "cell_type": "code",
   "execution_count": 1,
   "id": "8d101b96",
   "metadata": {},
   "outputs": [
    {
     "name": "stdout",
     "output_type": "stream",
     "text": [
      "abcdefghijklmnopqrstuvwxyzABCDEFGHIJKLMNOPQRSTUVWXYZ\n",
      "0123456789\n",
      "abcdefghijklmnopqrstuvwxyz\n",
      "0123456789abcdefghijklmnopqrstuvwxyzABCDEFGHIJKLMNOPQRSTUVWXYZ!\"#$%&'()*+,-./:;<=>?@[\\]^_`{|}~ \t\n",
      "\u000b\f\n",
      "!\"#$%&'()*+,-./:;<=>?@[\\]^_`{|}~\n"
     ]
    }
   ],
   "source": [
    "import string\n",
    "print(string.ascii_letters)\n",
    "print(string.digits)\n",
    "print(string.ascii_lowercase)\n",
    "print(string.printable)\n",
    "print(string.punctuation)"
   ]
  },
  {
   "cell_type": "markdown",
   "id": "1df3992c",
   "metadata": {},
   "source": [
    "#### find"
   ]
  },
  {
   "cell_type": "code",
   "execution_count": null,
   "id": "cde4100e",
   "metadata": {},
   "outputs": [
    {
     "name": "stdout",
     "output_type": "stream",
     "text": [
      "7\n",
      "-1\n",
      "7\n"
     ]
    }
   ],
   "source": [
    "x = 'With a moo-moo here, and a moo-moo there.'\n",
    "print(x.find('moo'))  # Returns the lowest index of the substring\n",
    "print(x.find('poo'))\n",
    "print(x.find('moo', 0, 300))  # searching from index 0 to 300"
   ]
  },
  {
   "cell_type": "markdown",
   "id": "84946518",
   "metadata": {},
   "source": [
    "#### join"
   ]
  },
  {
   "cell_type": "code",
   "execution_count": 28,
   "id": "3266bba8",
   "metadata": {},
   "outputs": [
    {
     "ename": "TypeError",
     "evalue": "sequence item 0: expected str instance, int found",
     "output_type": "error",
     "traceback": [
      "\u001b[31m---------------------------------------------------------------------------\u001b[39m",
      "\u001b[31mTypeError\u001b[39m                                 Traceback (most recent call last)",
      "\u001b[36mCell\u001b[39m\u001b[36m \u001b[39m\u001b[32mIn[28]\u001b[39m\u001b[32m, line 3\u001b[39m\n\u001b[32m      1\u001b[39m seq = [\u001b[32m1\u001b[39m, \u001b[32m2\u001b[39m, \u001b[32m3\u001b[39m, \u001b[32m4\u001b[39m, \u001b[32m5\u001b[39m]\n\u001b[32m      2\u001b[39m sep = \u001b[33m'\u001b[39m\u001b[33m+\u001b[39m\u001b[33m'\u001b[39m\n\u001b[32m----> \u001b[39m\u001b[32m3\u001b[39m \u001b[43msep\u001b[49m\u001b[43m.\u001b[49m\u001b[43mjoin\u001b[49m\u001b[43m(\u001b[49m\u001b[43mseq\u001b[49m\u001b[43m)\u001b[49m\n",
      "\u001b[31mTypeError\u001b[39m: sequence item 0: expected str instance, int found"
     ]
    }
   ],
   "source": [
    "seq = [1, 2, 3, 4, 5]\n",
    "sep = '+'\n",
    "sep.join(seq)"
   ]
  },
  {
   "cell_type": "code",
   "execution_count": 34,
   "id": "06548c66",
   "metadata": {},
   "outputs": [
    {
     "name": "stdout",
     "output_type": "stream",
     "text": [
      "1+2+3+4+5\n",
      "/home/user/documents\n"
     ]
    }
   ],
   "source": [
    "seq = ['1', '2', '3', '4', '5']\n",
    "sep = '+'\n",
    "print(sep.join(seq))\n",
    "dir = ['', 'home', 'user', 'documents']\n",
    "print('/'.join(dir))"
   ]
  },
  {
   "cell_type": "markdown",
   "id": "91be7e2f",
   "metadata": {},
   "source": [
    "#### lower"
   ]
  },
  {
   "cell_type": "code",
   "execution_count": 39,
   "id": "34977c3d",
   "metadata": {},
   "outputs": [
    {
     "name": "stdout",
     "output_type": "stream",
     "text": [
      "jeff fekker is a good guy gumby\n",
      "Found Gumby!\n"
     ]
    }
   ],
   "source": [
    "x = 'jeff fekker is a good guy gumby'\n",
    "print(x.lower())  # Converts all uppercase characters to lowercase\n",
    "\n",
    "\n",
    "if 'Gumby' in ['wefe', 'Gumby', 'wefwef', 'eef', 'llada']:\n",
    "    print('Found Gumby!')"
   ]
  },
  {
   "cell_type": "markdown",
   "id": "e0259bd5",
   "metadata": {},
   "source": [
    "#### replace"
   ]
  },
  {
   "cell_type": "code",
   "execution_count": 41,
   "id": "0556a10e",
   "metadata": {},
   "outputs": [
    {
     "name": "stdout",
     "output_type": "stream",
     "text": [
      "hello Python\n",
      "hello world\n"
     ]
    }
   ],
   "source": [
    "x = 'hello world'\n",
    "print(x.replace('world', 'Python'))  # Replaces 'world' with 'Python'\n",
    "print(x)"
   ]
  },
  {
   "cell_type": "markdown",
   "id": "a36dcd10",
   "metadata": {},
   "source": [
    "#### split"
   ]
  },
  {
   "cell_type": "code",
   "execution_count": 42,
   "id": "35add856",
   "metadata": {},
   "outputs": [
    {
     "data": {
      "text/plain": [
       "['1', '2', '3', '4', '5']"
      ]
     },
     "execution_count": 42,
     "metadata": {},
     "output_type": "execute_result"
    }
   ],
   "source": [
    "'1+2+3+4+5'.split('+')  # Splits the string into a list at each '+'"
   ]
  },
  {
   "cell_type": "markdown",
   "id": "6327c50b",
   "metadata": {},
   "source": [
    "#### strip"
   ]
  },
  {
   "cell_type": "code",
   "execution_count": 43,
   "id": "41abfc22",
   "metadata": {},
   "outputs": [
    {
     "data": {
      "text/plain": [
       "'helle world'"
      ]
     },
     "execution_count": 43,
     "metadata": {},
     "output_type": "execute_result"
    }
   ],
   "source": [
    "'    helle world    '.strip()  # Removes leading and trailing whitespace"
   ]
  }
 ],
 "metadata": {
  "kernelspec": {
   "display_name": "Python 3",
   "language": "python",
   "name": "python3"
  },
  "language_info": {
   "codemirror_mode": {
    "name": "ipython",
    "version": 3
   },
   "file_extension": ".py",
   "mimetype": "text/x-python",
   "name": "python",
   "nbconvert_exporter": "python",
   "pygments_lexer": "ipython3",
   "version": "3.13.5"
  }
 },
 "nbformat": 4,
 "nbformat_minor": 5
}
